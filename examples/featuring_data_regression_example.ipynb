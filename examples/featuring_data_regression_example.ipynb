{
 "cells": [
  {
   "cell_type": "markdown",
   "id": "6131bb0246d0f498",
   "metadata": {
    "collapsed": false,
    "jupyter": {
     "outputs_hidden": false
    }
   },
   "source": [
    "# Featuring Data EDA"
   ]
  },
  {
   "cell_type": "code",
   "execution_count": 1,
   "id": "initial_id",
   "metadata": {
    "ExecuteTime": {
     "end_time": "2024-04-17T19:47:03.761181Z",
     "start_time": "2024-04-17T19:47:03.504090Z"
    }
   },
   "outputs": [],
   "source": [
    "import pandas as pd\n",
    "\n",
    "from featuringdata.featuresEDA import FeaturesEDA\n",
    "from featuringdata.featureSelector import FeatureSelector"
   ]
  },
  {
   "cell_type": "markdown",
   "id": "c6434bf7e69976d6",
   "metadata": {
    "collapsed": false,
    "jupyter": {
     "outputs_hidden": false
    }
   },
   "source": [
    "## Data Input"
   ]
  },
  {
   "cell_type": "code",
   "execution_count": 2,
   "id": "c1ea6b66f0124c39",
   "metadata": {
    "ExecuteTime": {
     "end_time": "2024-04-17T19:47:05.250280Z",
     "start_time": "2024-04-17T19:47:05.242332Z"
    },
    "collapsed": false,
    "jupyter": {
     "outputs_hidden": false
    }
   },
   "outputs": [],
   "source": [
    "train_data = pd.read_csv('housing_ames_regression_train.csv')"
   ]
  },
  {
   "cell_type": "code",
   "execution_count": 3,
   "id": "e508025ed38125be",
   "metadata": {
    "ExecuteTime": {
     "end_time": "2024-04-17T19:47:05.693957Z",
     "start_time": "2024-04-17T19:47:05.687535Z"
    },
    "collapsed": false,
    "jupyter": {
     "outputs_hidden": false
    }
   },
   "outputs": [
    {
     "name": "stdout",
     "output_type": "stream",
     "text": [
      "<class 'pandas.core.frame.DataFrame'>\n",
      "RangeIndex: 1460 entries, 0 to 1459\n",
      "Data columns (total 81 columns):\n",
      " #   Column         Non-Null Count  Dtype  \n",
      "---  ------         --------------  -----  \n",
      " 0   Id             1460 non-null   int64  \n",
      " 1   MSSubClass     1460 non-null   int64  \n",
      " 2   MSZoning       1460 non-null   object \n",
      " 3   LotFrontage    1201 non-null   float64\n",
      " 4   LotArea        1460 non-null   int64  \n",
      " 5   Street         1460 non-null   object \n",
      " 6   Alley          91 non-null     object \n",
      " 7   LotShape       1460 non-null   object \n",
      " 8   LandContour    1460 non-null   object \n",
      " 9   Utilities      1460 non-null   object \n",
      " 10  LotConfig      1460 non-null   object \n",
      " 11  LandSlope      1460 non-null   object \n",
      " 12  Neighborhood   1460 non-null   object \n",
      " 13  Condition1     1460 non-null   object \n",
      " 14  Condition2     1460 non-null   object \n",
      " 15  BldgType       1460 non-null   object \n",
      " 16  HouseStyle     1460 non-null   object \n",
      " 17  OverallQual    1460 non-null   int64  \n",
      " 18  OverallCond    1460 non-null   int64  \n",
      " 19  YearBuilt      1460 non-null   int64  \n",
      " 20  YearRemodAdd   1460 non-null   int64  \n",
      " 21  RoofStyle      1460 non-null   object \n",
      " 22  RoofMatl       1460 non-null   object \n",
      " 23  Exterior1st    1460 non-null   object \n",
      " 24  Exterior2nd    1460 non-null   object \n",
      " 25  MasVnrType     588 non-null    object \n",
      " 26  MasVnrArea     1452 non-null   float64\n",
      " 27  ExterQual      1460 non-null   object \n",
      " 28  ExterCond      1460 non-null   object \n",
      " 29  Foundation     1460 non-null   object \n",
      " 30  BsmtQual       1423 non-null   object \n",
      " 31  BsmtCond       1423 non-null   object \n",
      " 32  BsmtExposure   1422 non-null   object \n",
      " 33  BsmtFinType1   1423 non-null   object \n",
      " 34  BsmtFinSF1     1460 non-null   int64  \n",
      " 35  BsmtFinType2   1422 non-null   object \n",
      " 36  BsmtFinSF2     1460 non-null   int64  \n",
      " 37  BsmtUnfSF      1460 non-null   int64  \n",
      " 38  TotalBsmtSF    1460 non-null   int64  \n",
      " 39  Heating        1460 non-null   object \n",
      " 40  HeatingQC      1460 non-null   object \n",
      " 41  CentralAir     1460 non-null   object \n",
      " 42  Electrical     1459 non-null   object \n",
      " 43  1stFlrSF       1460 non-null   int64  \n",
      " 44  2ndFlrSF       1460 non-null   int64  \n",
      " 45  LowQualFinSF   1460 non-null   int64  \n",
      " 46  GrLivArea      1460 non-null   int64  \n",
      " 47  BsmtFullBath   1460 non-null   int64  \n",
      " 48  BsmtHalfBath   1460 non-null   int64  \n",
      " 49  FullBath       1460 non-null   int64  \n",
      " 50  HalfBath       1460 non-null   int64  \n",
      " 51  BedroomAbvGr   1460 non-null   int64  \n",
      " 52  KitchenAbvGr   1460 non-null   int64  \n",
      " 53  KitchenQual    1460 non-null   object \n",
      " 54  TotRmsAbvGrd   1460 non-null   int64  \n",
      " 55  Functional     1460 non-null   object \n",
      " 56  Fireplaces     1460 non-null   int64  \n",
      " 57  FireplaceQu    770 non-null    object \n",
      " 58  GarageType     1379 non-null   object \n",
      " 59  GarageYrBlt    1379 non-null   float64\n",
      " 60  GarageFinish   1379 non-null   object \n",
      " 61  GarageCars     1460 non-null   int64  \n",
      " 62  GarageArea     1460 non-null   int64  \n",
      " 63  GarageQual     1379 non-null   object \n",
      " 64  GarageCond     1379 non-null   object \n",
      " 65  PavedDrive     1460 non-null   object \n",
      " 66  WoodDeckSF     1460 non-null   int64  \n",
      " 67  OpenPorchSF    1460 non-null   int64  \n",
      " 68  EnclosedPorch  1460 non-null   int64  \n",
      " 69  3SsnPorch      1460 non-null   int64  \n",
      " 70  ScreenPorch    1460 non-null   int64  \n",
      " 71  PoolArea       1460 non-null   int64  \n",
      " 72  PoolQC         7 non-null      object \n",
      " 73  Fence          281 non-null    object \n",
      " 74  MiscFeature    54 non-null     object \n",
      " 75  MiscVal        1460 non-null   int64  \n",
      " 76  MoSold         1460 non-null   int64  \n",
      " 77  YrSold         1460 non-null   int64  \n",
      " 78  SaleType       1460 non-null   object \n",
      " 79  SaleCondition  1460 non-null   object \n",
      " 80  SalePrice      1460 non-null   int64  \n",
      "dtypes: float64(3), int64(35), object(43)\n",
      "memory usage: 924.0+ KB\n"
     ]
    }
   ],
   "source": [
    "train_data.info()"
   ]
  },
  {
   "cell_type": "code",
   "execution_count": 4,
   "id": "e9554eef8ac96308",
   "metadata": {
    "ExecuteTime": {
     "end_time": "2024-04-17T19:47:06.515943Z",
     "start_time": "2024-04-17T19:47:06.505997Z"
    },
    "collapsed": false,
    "jupyter": {
     "outputs_hidden": false
    }
   },
   "outputs": [
    {
     "data": {
      "text/html": [
       "<div>\n",
       "<style scoped>\n",
       "    .dataframe tbody tr th:only-of-type {\n",
       "        vertical-align: middle;\n",
       "    }\n",
       "\n",
       "    .dataframe tbody tr th {\n",
       "        vertical-align: top;\n",
       "    }\n",
       "\n",
       "    .dataframe thead th {\n",
       "        text-align: right;\n",
       "    }\n",
       "</style>\n",
       "<table border=\"1\" class=\"dataframe\">\n",
       "  <thead>\n",
       "    <tr style=\"text-align: right;\">\n",
       "      <th></th>\n",
       "      <th>Id</th>\n",
       "      <th>MSSubClass</th>\n",
       "      <th>MSZoning</th>\n",
       "      <th>LotFrontage</th>\n",
       "      <th>LotArea</th>\n",
       "      <th>Street</th>\n",
       "      <th>Alley</th>\n",
       "      <th>LotShape</th>\n",
       "      <th>LandContour</th>\n",
       "      <th>Utilities</th>\n",
       "      <th>...</th>\n",
       "      <th>PoolArea</th>\n",
       "      <th>PoolQC</th>\n",
       "      <th>Fence</th>\n",
       "      <th>MiscFeature</th>\n",
       "      <th>MiscVal</th>\n",
       "      <th>MoSold</th>\n",
       "      <th>YrSold</th>\n",
       "      <th>SaleType</th>\n",
       "      <th>SaleCondition</th>\n",
       "      <th>SalePrice</th>\n",
       "    </tr>\n",
       "  </thead>\n",
       "  <tbody>\n",
       "    <tr>\n",
       "      <th>0</th>\n",
       "      <td>1</td>\n",
       "      <td>60</td>\n",
       "      <td>RL</td>\n",
       "      <td>65.0</td>\n",
       "      <td>8450</td>\n",
       "      <td>Pave</td>\n",
       "      <td>NaN</td>\n",
       "      <td>Reg</td>\n",
       "      <td>Lvl</td>\n",
       "      <td>AllPub</td>\n",
       "      <td>...</td>\n",
       "      <td>0</td>\n",
       "      <td>NaN</td>\n",
       "      <td>NaN</td>\n",
       "      <td>NaN</td>\n",
       "      <td>0</td>\n",
       "      <td>2</td>\n",
       "      <td>2008</td>\n",
       "      <td>WD</td>\n",
       "      <td>Normal</td>\n",
       "      <td>208500</td>\n",
       "    </tr>\n",
       "    <tr>\n",
       "      <th>1</th>\n",
       "      <td>2</td>\n",
       "      <td>20</td>\n",
       "      <td>RL</td>\n",
       "      <td>80.0</td>\n",
       "      <td>9600</td>\n",
       "      <td>Pave</td>\n",
       "      <td>NaN</td>\n",
       "      <td>Reg</td>\n",
       "      <td>Lvl</td>\n",
       "      <td>AllPub</td>\n",
       "      <td>...</td>\n",
       "      <td>0</td>\n",
       "      <td>NaN</td>\n",
       "      <td>NaN</td>\n",
       "      <td>NaN</td>\n",
       "      <td>0</td>\n",
       "      <td>5</td>\n",
       "      <td>2007</td>\n",
       "      <td>WD</td>\n",
       "      <td>Normal</td>\n",
       "      <td>181500</td>\n",
       "    </tr>\n",
       "    <tr>\n",
       "      <th>2</th>\n",
       "      <td>3</td>\n",
       "      <td>60</td>\n",
       "      <td>RL</td>\n",
       "      <td>68.0</td>\n",
       "      <td>11250</td>\n",
       "      <td>Pave</td>\n",
       "      <td>NaN</td>\n",
       "      <td>IR1</td>\n",
       "      <td>Lvl</td>\n",
       "      <td>AllPub</td>\n",
       "      <td>...</td>\n",
       "      <td>0</td>\n",
       "      <td>NaN</td>\n",
       "      <td>NaN</td>\n",
       "      <td>NaN</td>\n",
       "      <td>0</td>\n",
       "      <td>9</td>\n",
       "      <td>2008</td>\n",
       "      <td>WD</td>\n",
       "      <td>Normal</td>\n",
       "      <td>223500</td>\n",
       "    </tr>\n",
       "    <tr>\n",
       "      <th>3</th>\n",
       "      <td>4</td>\n",
       "      <td>70</td>\n",
       "      <td>RL</td>\n",
       "      <td>60.0</td>\n",
       "      <td>9550</td>\n",
       "      <td>Pave</td>\n",
       "      <td>NaN</td>\n",
       "      <td>IR1</td>\n",
       "      <td>Lvl</td>\n",
       "      <td>AllPub</td>\n",
       "      <td>...</td>\n",
       "      <td>0</td>\n",
       "      <td>NaN</td>\n",
       "      <td>NaN</td>\n",
       "      <td>NaN</td>\n",
       "      <td>0</td>\n",
       "      <td>2</td>\n",
       "      <td>2006</td>\n",
       "      <td>WD</td>\n",
       "      <td>Abnorml</td>\n",
       "      <td>140000</td>\n",
       "    </tr>\n",
       "    <tr>\n",
       "      <th>4</th>\n",
       "      <td>5</td>\n",
       "      <td>60</td>\n",
       "      <td>RL</td>\n",
       "      <td>84.0</td>\n",
       "      <td>14260</td>\n",
       "      <td>Pave</td>\n",
       "      <td>NaN</td>\n",
       "      <td>IR1</td>\n",
       "      <td>Lvl</td>\n",
       "      <td>AllPub</td>\n",
       "      <td>...</td>\n",
       "      <td>0</td>\n",
       "      <td>NaN</td>\n",
       "      <td>NaN</td>\n",
       "      <td>NaN</td>\n",
       "      <td>0</td>\n",
       "      <td>12</td>\n",
       "      <td>2008</td>\n",
       "      <td>WD</td>\n",
       "      <td>Normal</td>\n",
       "      <td>250000</td>\n",
       "    </tr>\n",
       "  </tbody>\n",
       "</table>\n",
       "<p>5 rows × 81 columns</p>\n",
       "</div>"
      ],
      "text/plain": [
       "   Id  MSSubClass MSZoning  LotFrontage  LotArea Street Alley LotShape  \\\n",
       "0   1          60       RL         65.0     8450   Pave   NaN      Reg   \n",
       "1   2          20       RL         80.0     9600   Pave   NaN      Reg   \n",
       "2   3          60       RL         68.0    11250   Pave   NaN      IR1   \n",
       "3   4          70       RL         60.0     9550   Pave   NaN      IR1   \n",
       "4   5          60       RL         84.0    14260   Pave   NaN      IR1   \n",
       "\n",
       "  LandContour Utilities  ... PoolArea PoolQC Fence MiscFeature MiscVal MoSold  \\\n",
       "0         Lvl    AllPub  ...        0    NaN   NaN         NaN       0      2   \n",
       "1         Lvl    AllPub  ...        0    NaN   NaN         NaN       0      5   \n",
       "2         Lvl    AllPub  ...        0    NaN   NaN         NaN       0      9   \n",
       "3         Lvl    AllPub  ...        0    NaN   NaN         NaN       0      2   \n",
       "4         Lvl    AllPub  ...        0    NaN   NaN         NaN       0     12   \n",
       "\n",
       "  YrSold  SaleType  SaleCondition  SalePrice  \n",
       "0   2008        WD         Normal     208500  \n",
       "1   2007        WD         Normal     181500  \n",
       "2   2008        WD         Normal     223500  \n",
       "3   2006        WD        Abnorml     140000  \n",
       "4   2008        WD         Normal     250000  \n",
       "\n",
       "[5 rows x 81 columns]"
      ]
     },
     "execution_count": 4,
     "metadata": {},
     "output_type": "execute_result"
    }
   ],
   "source": [
    "train_data.head()"
   ]
  },
  {
   "cell_type": "markdown",
   "id": "dea7fa5a4c4b14a7",
   "metadata": {
    "collapsed": false,
    "jupyter": {
     "outputs_hidden": false
    }
   },
   "source": [
    "\n",
    "## Features EDA"
   ]
  },
  {
   "cell_type": "code",
   "execution_count": 5,
   "id": "4ca100b8f54d4113",
   "metadata": {
    "ExecuteTime": {
     "end_time": "2024-04-17T19:47:15.281641Z",
     "start_time": "2024-04-17T19:47:15.271341Z"
    },
    "collapsed": false,
    "jupyter": {
     "outputs_hidden": false
    }
   },
   "outputs": [],
   "source": [
    "eda = FeaturesEDA(report_prefix='Housing_Ames', target_col=\"SalePrice\", cols_to_drop=[\"Id\"])"
   ]
  },
  {
   "cell_type": "code",
   "execution_count": 6,
   "id": "5710aa805c8e3306",
   "metadata": {
    "ExecuteTime": {
     "end_time": "2024-04-17T19:47:23.876172Z",
     "start_time": "2024-04-17T19:47:23.873890Z"
    },
    "collapsed": false,
    "jupyter": {
     "outputs_hidden": false
    }
   },
   "outputs": [],
   "source": [
    "# Run this to get an abbreviated PDF report (similar information to dataframe.info() and dataframe.describe()):\n",
    "# eda.run_initial_eda(train_data)"
   ]
  },
  {
   "cell_type": "code",
   "execution_count": 7,
   "id": "d29eaf5e7913aa88",
   "metadata": {
    "ExecuteTime": {
     "end_time": "2024-04-17T19:47:26.824789Z",
     "start_time": "2024-04-17T19:47:25.190527Z"
    },
    "collapsed": false,
    "jupyter": {
     "outputs_hidden": false
    }
   },
   "outputs": [
    {
     "name": "stdout",
     "output_type": "stream",
     "text": [
      "--- Null Values Analysis ---\n",
      "Out of 80 total data columns, there are 19 columns with at least 1 null value.\n",
      "\n",
      "Out of 1460 total rows/data samples, 1460 rows have at least one null value.\n",
      "The row with the most NULL values has 16 NULLs.\n",
      "\n",
      "--- Sorting Numeric and Non-numeric Columns / Unique Values ---\n",
      "There are 36 numeric columns and 43 non-numeric columns.\n",
      "\n",
      "--- Target Column ---\n",
      "For the chosen target column ('SalePrice'), this appears to be a regression problem.\n",
      "The target column has 0 null values and 663 unique values.\n",
      "\n",
      "--- Feature Correlations ---\n",
      "For random forest (RF) correlation measure, using 50 trees and min_samples_leaf=44.\n",
      "\n",
      "Running correlations of numeric features to target variable...\n"
     ]
    },
    {
     "data": {
      "application/vnd.jupyter.widget-view+json": {
       "model_id": "c4c50940266f43d29ff82a2ec45f8521",
       "version_major": 2,
       "version_minor": 0
      },
      "text/plain": [
       "  0%|          | 0/36 [00:00<?, ?it/s]"
      ]
     },
     "metadata": {},
     "output_type": "display_data"
    },
    {
     "data": {
      "application/vnd.jupyter.widget-view+json": {
       "model_id": "6d74298e0f3446cfabbc6a702bd9f51d",
       "version_major": 2,
       "version_minor": 0
      },
      "text/plain": [
       "  0%|          | 0/630 [00:00<?, ?it/s]"
      ]
     },
     "metadata": {},
     "output_type": "display_data"
    },
    {
     "name": "stdout",
     "output_type": "stream",
     "text": [
      "For random forest (RF) correlation measure, using 50 trees and min_samples_leaf=4.\n",
      "\n",
      "Running correlations of non-numeric features to target variable...\n"
     ]
    },
    {
     "data": {
      "application/vnd.jupyter.widget-view+json": {
       "model_id": "beb507d747804deab8321e1cf15eea94",
       "version_major": 2,
       "version_minor": 0
      },
      "text/plain": [
       "  0%|          | 0/43 [00:00<?, ?it/s]"
      ]
     },
     "metadata": {},
     "output_type": "display_data"
    },
    {
     "name": "stdout",
     "output_type": "stream",
     "text": [
      "Generating plots of numeric features...\n"
     ]
    },
    {
     "data": {
      "application/vnd.jupyter.widget-view+json": {
       "model_id": "798eb320eb9f4cf796318f5766fca330",
       "version_major": 2,
       "version_minor": 0
      },
      "text/plain": [
       "  0%|          | 0/36 [00:00<?, ?it/s]"
      ]
     },
     "metadata": {},
     "output_type": "display_data"
    },
    {
     "name": "stdout",
     "output_type": "stream",
     "text": [
      "Generating plots of non-numeric/categorical features...\n"
     ]
    },
    {
     "data": {
      "application/vnd.jupyter.widget-view+json": {
       "model_id": "4c6b78708bb24668bc9793f9769936aa",
       "version_major": 2,
       "version_minor": 0
      },
      "text/plain": [
       "  0%|          | 0/43 [00:00<?, ?it/s]"
      ]
     },
     "metadata": {},
     "output_type": "display_data"
    },
    {
     "name": "stdout",
     "output_type": "stream",
     "text": [
      "For 'Neighborhood', more than 20 unique values: Only plotting top 20, which is 1405 out of 1460 total datapoints.\n",
      "\n",
      "--- Files Output ---\n",
      "File 'Housing_Ames_EDA_Report_20240512_220339.pdf' has been saved in current working directory.\n",
      "All PNG files can be found in ./Housing_Ames_EDA_plots_20240512_220339.\n"
     ]
    }
   ],
   "source": [
    "# Run this to get a full EDA report in PDF format in the local directory:\n",
    "eda.run_full_eda(train_data, run_collinear=True, generate_plots=True)"
   ]
  },
  {
   "cell_type": "code",
   "execution_count": 8,
   "id": "d759f12a5fa11ef7",
   "metadata": {
    "collapsed": false,
    "jupyter": {
     "outputs_hidden": false
    }
   },
   "outputs": [
    {
     "data": {
      "text/html": [
       "<div>\n",
       "<style scoped>\n",
       "    .dataframe tbody tr th:only-of-type {\n",
       "        vertical-align: middle;\n",
       "    }\n",
       "\n",
       "    .dataframe tbody tr th {\n",
       "        vertical-align: top;\n",
       "    }\n",
       "\n",
       "    .dataframe thead th {\n",
       "        text-align: right;\n",
       "    }\n",
       "</style>\n",
       "<table border=\"1\" class=\"dataframe\">\n",
       "  <thead>\n",
       "    <tr style=\"text-align: right;\">\n",
       "      <th></th>\n",
       "      <th>Num of Nulls</th>\n",
       "      <th>Frac Null</th>\n",
       "      <th>dtype</th>\n",
       "      <th>Column Type (orig)</th>\n",
       "      <th>Num Unique Values</th>\n",
       "      <th>Column Note</th>\n",
       "      <th>Column Type</th>\n",
       "      <th>Count not-Null</th>\n",
       "      <th>Pearson</th>\n",
       "      <th>Mutual Info</th>\n",
       "      <th>Random Forest</th>\n",
       "      <th>COLLIN Avg Pearson Corr</th>\n",
       "      <th>COLLIN Avg RF Corr</th>\n",
       "      <th>COLLIN Max Pear Corr Feature</th>\n",
       "      <th>COLLIN Max Pear</th>\n",
       "      <th>COLLIN Max RF Corr Feature</th>\n",
       "      <th>COLLIN Max RF Corr</th>\n",
       "      <th>RF_norm</th>\n",
       "    </tr>\n",
       "  </thead>\n",
       "  <tbody>\n",
       "    <tr>\n",
       "      <th>MSSubClass</th>\n",
       "      <td>0</td>\n",
       "      <td>0.00</td>\n",
       "      <td>int64</td>\n",
       "      <td>numeric</td>\n",
       "      <td>15</td>\n",
       "      <td>None</td>\n",
       "      <td>numeric</td>\n",
       "      <td>1460</td>\n",
       "      <td>-0.08</td>\n",
       "      <td>0.27</td>\n",
       "      <td>0.24</td>\n",
       "      <td>0.09</td>\n",
       "      <td>0.12</td>\n",
       "      <td>LotFrontage</td>\n",
       "      <td>-0.39</td>\n",
       "      <td>2ndFlrSF</td>\n",
       "      <td>0.48</td>\n",
       "      <td>NaN</td>\n",
       "    </tr>\n",
       "    <tr>\n",
       "      <th>MSZoning</th>\n",
       "      <td>0</td>\n",
       "      <td>0.00</td>\n",
       "      <td>object</td>\n",
       "      <td>non-numeric</td>\n",
       "      <td>5</td>\n",
       "      <td>None</td>\n",
       "      <td>non-numeric</td>\n",
       "      <td>1460</td>\n",
       "      <td>NaN</td>\n",
       "      <td>0.13</td>\n",
       "      <td>0.11</td>\n",
       "      <td>NaN</td>\n",
       "      <td>NaN</td>\n",
       "      <td>NaN</td>\n",
       "      <td>NaN</td>\n",
       "      <td>NaN</td>\n",
       "      <td>NaN</td>\n",
       "      <td>0.11</td>\n",
       "    </tr>\n",
       "    <tr>\n",
       "      <th>LotFrontage</th>\n",
       "      <td>259</td>\n",
       "      <td>0.18</td>\n",
       "      <td>float64</td>\n",
       "      <td>numeric</td>\n",
       "      <td>110</td>\n",
       "      <td>None</td>\n",
       "      <td>numeric</td>\n",
       "      <td>1201</td>\n",
       "      <td>0.35</td>\n",
       "      <td>0.22</td>\n",
       "      <td>0.23</td>\n",
       "      <td>0.17</td>\n",
       "      <td>0.09</td>\n",
       "      <td>1stFlrSF</td>\n",
       "      <td>0.46</td>\n",
       "      <td>MSSubClass</td>\n",
       "      <td>0.33</td>\n",
       "      <td>NaN</td>\n",
       "    </tr>\n",
       "    <tr>\n",
       "      <th>LotArea</th>\n",
       "      <td>0</td>\n",
       "      <td>0.00</td>\n",
       "      <td>int64</td>\n",
       "      <td>numeric</td>\n",
       "      <td>1073</td>\n",
       "      <td>None</td>\n",
       "      <td>numeric</td>\n",
       "      <td>1460</td>\n",
       "      <td>0.26</td>\n",
       "      <td>0.16</td>\n",
       "      <td>0.25</td>\n",
       "      <td>0.11</td>\n",
       "      <td>0.07</td>\n",
       "      <td>LotFrontage</td>\n",
       "      <td>0.43</td>\n",
       "      <td>LotFrontage</td>\n",
       "      <td>0.29</td>\n",
       "      <td>NaN</td>\n",
       "    </tr>\n",
       "    <tr>\n",
       "      <th>Street</th>\n",
       "      <td>0</td>\n",
       "      <td>0.00</td>\n",
       "      <td>object</td>\n",
       "      <td>non-numeric</td>\n",
       "      <td>2</td>\n",
       "      <td>None</td>\n",
       "      <td>non-numeric</td>\n",
       "      <td>1460</td>\n",
       "      <td>NaN</td>\n",
       "      <td>0.00</td>\n",
       "      <td>0.00</td>\n",
       "      <td>NaN</td>\n",
       "      <td>NaN</td>\n",
       "      <td>NaN</td>\n",
       "      <td>NaN</td>\n",
       "      <td>NaN</td>\n",
       "      <td>NaN</td>\n",
       "      <td>0.00</td>\n",
       "    </tr>\n",
       "  </tbody>\n",
       "</table>\n",
       "</div>"
      ],
      "text/plain": [
       "             Num of Nulls  Frac Null    dtype Column Type (orig)  \\\n",
       "MSSubClass              0       0.00    int64            numeric   \n",
       "MSZoning                0       0.00   object        non-numeric   \n",
       "LotFrontage           259       0.18  float64            numeric   \n",
       "LotArea                 0       0.00    int64            numeric   \n",
       "Street                  0       0.00   object        non-numeric   \n",
       "\n",
       "             Num Unique Values Column Note  Column Type  Count not-Null  \\\n",
       "MSSubClass                  15        None      numeric            1460   \n",
       "MSZoning                     5        None  non-numeric            1460   \n",
       "LotFrontage                110        None      numeric            1201   \n",
       "LotArea                   1073        None      numeric            1460   \n",
       "Street                       2        None  non-numeric            1460   \n",
       "\n",
       "             Pearson  Mutual Info  Random Forest  COLLIN Avg Pearson Corr  \\\n",
       "MSSubClass     -0.08         0.27           0.24                     0.09   \n",
       "MSZoning         NaN         0.13           0.11                      NaN   \n",
       "LotFrontage     0.35         0.22           0.23                     0.17   \n",
       "LotArea         0.26         0.16           0.25                     0.11   \n",
       "Street           NaN         0.00           0.00                      NaN   \n",
       "\n",
       "             COLLIN Avg RF Corr COLLIN Max Pear Corr Feature  COLLIN Max Pear  \\\n",
       "MSSubClass                 0.12                  LotFrontage            -0.39   \n",
       "MSZoning                    NaN                          NaN              NaN   \n",
       "LotFrontage                0.09                     1stFlrSF             0.46   \n",
       "LotArea                    0.07                  LotFrontage             0.43   \n",
       "Street                      NaN                          NaN              NaN   \n",
       "\n",
       "            COLLIN Max RF Corr Feature  COLLIN Max RF Corr  RF_norm  \n",
       "MSSubClass                    2ndFlrSF                0.48      NaN  \n",
       "MSZoning                           NaN                 NaN     0.11  \n",
       "LotFrontage                 MSSubClass                0.33      NaN  \n",
       "LotArea                    LotFrontage                0.29      NaN  \n",
       "Street                             NaN                 NaN     0.00  "
      ]
     },
     "execution_count": 8,
     "metadata": {},
     "output_type": "execute_result"
    }
   ],
   "source": [
    "eda.master_columns_df.head()"
   ]
  },
  {
   "cell_type": "code",
   "execution_count": 9,
   "id": "b1ce33ac4dd57e9a",
   "metadata": {
    "collapsed": false,
    "jupyter": {
     "outputs_hidden": false
    }
   },
   "outputs": [
    {
     "name": "stdout",
     "output_type": "stream",
     "text": [
      "36 43\n"
     ]
    }
   ],
   "source": [
    "print(len(eda.numeric_cols), len(eda.non_numeric_cols))"
   ]
  },
  {
   "cell_type": "markdown",
   "id": "b2fefd37",
   "metadata": {},
   "source": [
    "### Additional Stuff"
   ]
  },
  {
   "cell_type": "code",
   "execution_count": null,
   "id": "d1eabd4a557a5d08",
   "metadata": {
    "collapsed": false,
    "jupyter": {
     "outputs_hidden": false
    }
   },
   "outputs": [],
   "source": []
  },
  {
   "cell_type": "markdown",
   "id": "96d480d6598d2ed9",
   "metadata": {
    "collapsed": false,
    "jupyter": {
     "outputs_hidden": false
    }
   },
   "source": [
    "## Feature Selector"
   ]
  },
  {
   "cell_type": "code",
   "execution_count": 10,
   "id": "21526a8544e12f20",
   "metadata": {
    "collapsed": false,
    "jupyter": {
     "outputs_hidden": false
    }
   },
   "outputs": [],
   "source": [
    "parameter_dict = {'max_depth': [3, 4, 5, 6], 'gamma': [0, 1, 5],\n",
    "                  'min_child_weight': [0, 1, 5], 'max_delta_step': [0, 1, 5]}"
   ]
  },
  {
   "cell_type": "code",
   "execution_count": 11,
   "id": "d93f1346",
   "metadata": {},
   "outputs": [
    {
     "name": "stdout",
     "output_type": "stream",
     "text": [
      "regression\n"
     ]
    }
   ],
   "source": [
    "print(eda.target_type)"
   ]
  },
  {
   "cell_type": "code",
   "execution_count": 12,
   "id": "549149b59eb1d85c",
   "metadata": {
    "collapsed": false,
    "jupyter": {
     "outputs_hidden": false
    }
   },
   "outputs": [],
   "source": [
    "fselect = FeatureSelector(eda.numeric_cols, eda.non_numeric_cols, report_prefix=eda.report_prefix,\n",
    "                          target_col=eda.target_col, target_type=eda.target_type, target_log=True,\n",
    "                          parameter_dict=parameter_dict)  #val_size=0.15)"
   ]
  },
  {
   "cell_type": "code",
   "execution_count": 13,
   "id": "ab043e265a00fc86",
   "metadata": {
    "collapsed": false,
    "jupyter": {
     "outputs_hidden": false
    }
   },
   "outputs": [
    {
     "name": "stdout",
     "output_type": "stream",
     "text": [
      "Starting number of feature columns: 287\n",
      "\n",
      "Running grid search at Iteration 0 on data split 1...\n"
     ]
    },
    {
     "data": {
      "application/vnd.jupyter.widget-view+json": {
       "model_id": "4c7cc509810b49219c2f8c568b427b9c",
       "version_major": 2,
       "version_minor": 0
      },
      "text/plain": [
       "  0%|          | 0/108 [00:00<?, ?it/s]"
      ]
     },
     "metadata": {},
     "output_type": "display_data"
    },
    {
     "name": "stdout",
     "output_type": "stream",
     "text": [
      "Running grid search at Iteration 0 on data split 2...\n"
     ]
    },
    {
     "data": {
      "application/vnd.jupyter.widget-view+json": {
       "model_id": "30a5d8c34cb94b819577a8ea0bfa38ac",
       "version_major": 2,
       "version_minor": 0
      },
      "text/plain": [
       "  0%|          | 0/108 [00:00<?, ?it/s]"
      ]
     },
     "metadata": {},
     "output_type": "display_data"
    },
    {
     "name": "stdout",
     "output_type": "stream",
     "text": [
      "\n",
      "Iter 0 -- New best params: {'gamma': 0, 'max_delta_step': 0, 'max_depth': 3, 'min_child_weight': 0}\n",
      "\n",
      "         NumFeats(1) RMSE(1)   TopFeat(1) TopFeatImp(1)  NumFeats(2) RMSE(2)   TopFeat(2) TopFeatImp(2)\n",
      "Iter    0 :   287  0.14385          OverallQual 0.19  :    287 0.11719          ExterQual_TA 0.21\n",
      "Iter    1 :   120  0.14385          OverallQual 0.19  :    125 0.11719          ExterQual_TA 0.21\n",
      "Iter    2 :   119  0.14385          OverallQual 0.19  :    124 0.11740          ExterQual_TA 0.21\n",
      "Iter    3 :   118  0.14385          OverallQual 0.19  :    123 0.11740          ExterQual_TA 0.22\n",
      "Iter    4 :   117  0.14385          OverallQual 0.19  :    121 0.11740          ExterQual_TA 0.22\n",
      "Iter    5 :   116  0.14201          OverallQual 0.19  :    120 0.11740          ExterQual_TA 0.22\n",
      "Iter    6 :   109  0.14201          OverallQual 0.19  :    119 0.11740          ExterQual_TA 0.22\n",
      "Iter    7 :   108  0.14201          OverallQual 0.19  :    118 0.11740          ExterQual_TA 0.22\n",
      "Iter    8 :   107  0.14201          OverallQual 0.19  :    117 0.11740          ExterQual_TA 0.22\n",
      "Iter    9 :   106  0.14201          OverallQual 0.19  :    115 0.11740          ExterQual_TA 0.22\n",
      "Iter   10 :   105  0.14201          OverallQual 0.19  :    114 0.11740          ExterQual_TA 0.22\n",
      "Iter   11 :   104  0.14201          OverallQual 0.19  :    113 0.11587           OverallQual 0.19\n",
      "Iter   12 :   103  0.14198          OverallQual 0.18  :    112 0.11648          ExterQual_TA 0.24\n",
      "Iter   13 :   102  0.14201          OverallQual 0.20  :    111 0.11648          ExterQual_TA 0.24\n",
      "Iter   14 :   101  0.14214          OverallQual 0.19  :    110 0.11648           OverallQual 0.22\n",
      "Running grid search at Iteration 15 on data split 1...\n"
     ]
    },
    {
     "data": {
      "application/vnd.jupyter.widget-view+json": {
       "model_id": "23e429e567f044c5b432075aa875c636",
       "version_major": 2,
       "version_minor": 0
      },
      "text/plain": [
       "  0%|          | 0/108 [00:00<?, ?it/s]"
      ]
     },
     "metadata": {},
     "output_type": "display_data"
    },
    {
     "name": "stdout",
     "output_type": "stream",
     "text": [
      "Running grid search at Iteration 15 on data split 2...\n"
     ]
    },
    {
     "data": {
      "application/vnd.jupyter.widget-view+json": {
       "model_id": "4d6c124bada6463fbcf2a5d2f6b7b354",
       "version_major": 2,
       "version_minor": 0
      },
      "text/plain": [
       "  0%|          | 0/108 [00:00<?, ?it/s]"
      ]
     },
     "metadata": {},
     "output_type": "display_data"
    },
    {
     "name": "stdout",
     "output_type": "stream",
     "text": [
      "\n",
      "Iter 15 -- New best params: {'gamma': 0, 'max_delta_step': 0, 'max_depth': 3, 'min_child_weight': 0}\n",
      "\n",
      "Iter   15 :    98  0.14214          OverallQual 0.19  :    109 0.11443          ExterQual_TA 0.25\n",
      "Iter   16 :    97  0.14214          OverallQual 0.19  :    108 0.11720          ExterQual_TA 0.23\n",
      "Iter   17 :    96  0.14214          OverallQual 0.19  :    107 0.11720          ExterQual_TA 0.23\n",
      "Iter   18 :    95  0.14216          OverallQual 0.19  :    106 0.11567           OverallQual 0.18\n",
      "Iter   19 :    94  0.14216          OverallQual 0.19  :    105 0.11567           OverallQual 0.18\n",
      "Iter   20 :    93  0.13960          OverallQual 0.19  :    104 0.11656          ExterQual_TA 0.26\n",
      "Iter   21 :    92  0.13960          OverallQual 0.20  :    103 0.11656          ExterQual_TA 0.26\n",
      "Iter   22 :    90  0.13960          OverallQual 0.20  :    102 0.11668          ExterQual_TA 0.27\n",
      "Iter   23 :    89  0.14088          OverallQual 0.21  :    101 0.11561          ExterQual_TA 0.26\n",
      "Iter   24 :    88  0.14158          OverallQual 0.19  :    100 0.11717           OverallQual 0.19\n",
      "Iter   25 :    87  0.14158          OverallQual 0.19  :     99 0.11790           OverallQual 0.22\n",
      "Iter   26 :    86  0.14076          OverallQual 0.21  :     98 0.11670          ExterQual_TA 0.24\n",
      "Iter   27 :    85  0.14023          OverallQual 0.20  :     97 0.11670          ExterQual_TA 0.24\n",
      "Iter   28 :    84  0.14158          OverallQual 0.20  :     96 0.11834          ExterQual_TA 0.20\n",
      "Iter   29 :    83  0.14022          OverallQual 0.21  :     91 0.11834          ExterQual_TA 0.20\n",
      "Running grid search at Iteration 30 on data split 1...\n"
     ]
    },
    {
     "data": {
      "application/vnd.jupyter.widget-view+json": {
       "model_id": "e6b599e9b9454cd499d9576c657de6a3",
       "version_major": 2,
       "version_minor": 0
      },
      "text/plain": [
       "  0%|          | 0/108 [00:00<?, ?it/s]"
      ]
     },
     "metadata": {},
     "output_type": "display_data"
    },
    {
     "name": "stdout",
     "output_type": "stream",
     "text": [
      "Running grid search at Iteration 30 on data split 2...\n"
     ]
    },
    {
     "data": {
      "application/vnd.jupyter.widget-view+json": {
       "model_id": "2f84910b3fe849d99842efb7047a17cd",
       "version_major": 2,
       "version_minor": 0
      },
      "text/plain": [
       "  0%|          | 0/108 [00:00<?, ?it/s]"
      ]
     },
     "metadata": {},
     "output_type": "display_data"
    },
    {
     "name": "stdout",
     "output_type": "stream",
     "text": [
      "\n",
      "Iter 30 -- New best params: {'gamma': 0, 'max_delta_step': 0, 'max_depth': 3, 'min_child_weight': 0}\n",
      "\n",
      "Iter   30 :    82  0.14022          OverallQual 0.21  :     90 0.11834          ExterQual_TA 0.20\n",
      "Iter   31 :    81  0.14022          OverallQual 0.20  :     89 0.11803           OverallQual 0.22\n",
      "Iter   32 :    80  0.14022          OverallQual 0.20  :     87 0.11803           OverallQual 0.22\n",
      "Iter   33 :    79  0.13953          OverallQual 0.20  :     86 0.11780           OverallQual 0.21\n",
      "Iter   34 :    78  0.13998          BsmtQual_Ex 0.21  :     85 0.11780           OverallQual 0.21\n",
      "Iter   35 :    77  0.14320          OverallQual 0.20  :     84 0.11760           OverallQual 0.22\n",
      "Iter   36 :    76  0.14175          BsmtQual_Ex 0.22  :     83 0.11846          ExterQual_TA 0.23\n",
      "Iter   37 :    75  0.14175          BsmtQual_Ex 0.22  :     82 0.11892          ExterQual_TA 0.21\n",
      "Iter   38 :    74  0.14185          BsmtQual_Ex 0.21  :     81 0.11681           OverallQual 0.23\n",
      "Iter   39 :    73  0.14620          OverallQual 0.28  :     79 0.11681           OverallQual 0.23\n",
      "Iter   40 :    68  0.14620          OverallQual 0.28  :     78 0.11664           OverallQual 0.20\n",
      "Iter   41 :    67  0.14620          OverallQual 0.30  :     77 0.11550          ExterQual_TA 0.28\n",
      "Iter   42 :    66  0.14620          OverallQual 0.28  :     76 0.11550          ExterQual_TA 0.28\n",
      "Iter   43 :    65  0.14133          OverallQual 0.23  :     75 0.11510          ExterQual_TA 0.30\n",
      "Iter   44 :    64  0.14133          OverallQual 0.23  :     74 0.11750          ExterQual_TA 0.25\n",
      "Running grid search at Iteration 45 on data split 1...\n"
     ]
    },
    {
     "data": {
      "application/vnd.jupyter.widget-view+json": {
       "model_id": "dfdf14fe8f14476cb6dfa43434c1438f",
       "version_major": 2,
       "version_minor": 0
      },
      "text/plain": [
       "  0%|          | 0/108 [00:00<?, ?it/s]"
      ]
     },
     "metadata": {},
     "output_type": "display_data"
    },
    {
     "name": "stdout",
     "output_type": "stream",
     "text": [
      "Running grid search at Iteration 45 on data split 2...\n"
     ]
    },
    {
     "data": {
      "application/vnd.jupyter.widget-view+json": {
       "model_id": "1d73a620352f4d77a3d7ce13f07fd90b",
       "version_major": 2,
       "version_minor": 0
      },
      "text/plain": [
       "  0%|          | 0/108 [00:00<?, ?it/s]"
      ]
     },
     "metadata": {},
     "output_type": "display_data"
    },
    {
     "name": "stdout",
     "output_type": "stream",
     "text": [
      "\n",
      "Iter 45 -- New best params: {'gamma': 0, 'max_delta_step': 0, 'max_depth': 3, 'min_child_weight': 0}\n",
      "\n",
      "Iter   45 :    63  0.14467          OverallQual 0.22  :     73 0.11656          ExterQual_TA 0.26\n",
      "Iter   46 :    62  0.14467          OverallQual 0.22  :     72 0.11745          ExterQual_TA 0.24\n",
      "Iter   47 :    61  0.14620          OverallQual 0.23  :     71 0.11720          ExterQual_TA 0.24\n",
      "Iter   48 :    60  0.14369          OverallQual 0.21  :     70 0.11766          ExterQual_TA 0.24\n",
      "Iter   49 :    59  0.14541          OverallQual 0.22  :     69 0.11695          ExterQual_TA 0.24\n",
      "Iter   50 :    58  0.14541          OverallQual 0.22  :     68 0.12002           OverallQual 0.23\n",
      "Iter   51 :    57  0.14541          OverallQual 0.23  :     67 0.11363           OverallQual 0.19\n",
      "Iter   52 :    56  0.14578          OverallQual 0.23  :     65 0.11363           OverallQual 0.19\n",
      "Iter   53 :    55  0.14504          OverallQual 0.20  :     64 0.11553          ExterQual_TA 0.25\n",
      "Iter   54 :    54  0.14643          OverallQual 0.23  :     63 0.11553          ExterQual_TA 0.25\n",
      "Iter   55 :    53  0.14381          OverallQual 0.24  :     62 0.11739          ExterQual_TA 0.26\n",
      "Iter   56 :    52  0.13843          OverallQual 0.20  :     61 0.11634           OverallQual 0.23\n",
      "Iter   57 :    51  0.14091          OverallQual 0.26  :     60 0.11784          ExterQual_TA 0.24\n",
      "Iter   58 :    50  0.14286          OverallQual 0.25  :     59 0.11985          ExterQual_TA 0.23\n",
      "Iter   59 :    49  0.14437          OverallQual 0.25  :     58 0.11804          ExterQual_TA 0.23\n",
      "Running grid search at Iteration 60 on data split 1...\n"
     ]
    },
    {
     "data": {
      "application/vnd.jupyter.widget-view+json": {
       "model_id": "574981d7629a475f811c33ea6e529321",
       "version_major": 2,
       "version_minor": 0
      },
      "text/plain": [
       "  0%|          | 0/108 [00:00<?, ?it/s]"
      ]
     },
     "metadata": {},
     "output_type": "display_data"
    },
    {
     "name": "stdout",
     "output_type": "stream",
     "text": [
      "Running grid search at Iteration 60 on data split 2...\n"
     ]
    },
    {
     "data": {
      "application/vnd.jupyter.widget-view+json": {
       "model_id": "dcbab553ecf24f86bcf43f145086341b",
       "version_major": 2,
       "version_minor": 0
      },
      "text/plain": [
       "  0%|          | 0/108 [00:00<?, ?it/s]"
      ]
     },
     "metadata": {},
     "output_type": "display_data"
    },
    {
     "name": "stdout",
     "output_type": "stream",
     "text": [
      "\n",
      "Iter 60 -- New best params: {'gamma': 0, 'max_delta_step': 0, 'max_depth': 3, 'min_child_weight': 0}\n",
      "\n",
      "Iter   60 :    48  0.14428          OverallQual 0.23  :     57 0.11477           OverallQual 0.29\n",
      "Iter   61 :    47  0.14831          OverallQual 0.22  :     56 0.11197           OverallQual 0.27\n",
      "Iter   62 :    46  0.14831          OverallQual 0.22  :     55 0.11197           OverallQual 0.27\n",
      "Iter   63 :    45  0.14411          OverallQual 0.22  :     54 0.11325           OverallQual 0.28\n",
      "Iter   64 :    44  0.14269          OverallQual 0.23  :     53 0.11387           OverallQual 0.27\n",
      "Iter   65 :    43  0.14915          OverallQual 0.22  :     52 0.11519          ExterQual_TA 0.27\n",
      "Iter   66 :    42  0.14863          OverallQual 0.22  :     51 0.11737           OverallQual 0.27\n",
      "Iter   67 :    41  0.14389          OverallQual 0.25  :     50 0.11831          ExterQual_TA 0.26\n",
      "Iter   68 :    40  0.14257          OverallQual 0.21  :     49 0.11594           OverallQual 0.27\n",
      "Iter   69 :    39  0.14800          OverallQual 0.22  :     48 0.11262          ExterQual_TA 0.27\n",
      "Iter   70 :    38  0.14659          OverallQual 0.22  :     47 0.11382          ExterQual_TA 0.28\n",
      "Iter   71 :    37  0.14430          OverallQual 0.24  :     46 0.11878           OverallQual 0.24\n",
      "Iter   72 :    36  0.14843          OverallQual 0.21  :     45 0.11724           OverallQual 0.28\n",
      "Iter   73 :    35  0.14291          OverallQual 0.22  :     44 0.12090           OverallQual 0.24\n",
      "Iter   74 :    34  0.14171          OverallQual 0.25  :     43 0.12033           OverallQual 0.27\n",
      "Running grid search at Iteration 75 on data split 1...\n"
     ]
    },
    {
     "data": {
      "application/vnd.jupyter.widget-view+json": {
       "model_id": "f8396f9c328a49a4bc52a3bde0195249",
       "version_major": 2,
       "version_minor": 0
      },
      "text/plain": [
       "  0%|          | 0/108 [00:00<?, ?it/s]"
      ]
     },
     "metadata": {},
     "output_type": "display_data"
    },
    {
     "name": "stdout",
     "output_type": "stream",
     "text": [
      "Running grid search at Iteration 75 on data split 2...\n"
     ]
    },
    {
     "data": {
      "application/vnd.jupyter.widget-view+json": {
       "model_id": "b391d9f3007744abb224a2912984eed5",
       "version_major": 2,
       "version_minor": 0
      },
      "text/plain": [
       "  0%|          | 0/108 [00:00<?, ?it/s]"
      ]
     },
     "metadata": {},
     "output_type": "display_data"
    },
    {
     "name": "stdout",
     "output_type": "stream",
     "text": [
      "\n",
      "Iter 75 -- New best params: {'gamma': 0, 'max_delta_step': 0, 'max_depth': 3, 'min_child_weight': 5}\n",
      "\n",
      "Iter   75 :    33  0.14221          OverallQual 0.26  :     42 0.12033           OverallQual 0.34\n",
      "Iter   76 :    32  0.13990          OverallQual 0.30  :     41 0.12033           OverallQual 0.34\n",
      "Iter   77 :    31  0.13967          OverallQual 0.32  :     40 0.11854           OverallQual 0.35\n",
      "Iter   78 :    30  0.14276          OverallQual 0.28  :     39 0.12059          ExterQual_TA 0.27\n",
      "Iter   79 :    29  0.14276          OverallQual 0.28  :     38 0.12108          ExterQual_TA 0.27\n",
      "Iter   80 :    28  0.14299          OverallQual 0.28  :     37 0.11840           OverallQual 0.31\n",
      "Iter   81 :    27  0.14313          OverallQual 0.26  :     36 0.12352           OverallQual 0.26\n",
      "Iter   82 :    26  0.14005          OverallQual 0.34  :     35 0.12086           OverallQual 0.30\n",
      "Iter   83 :    25  0.14284          OverallQual 0.29  :     34 0.12326           OverallQual 0.28\n",
      "Iter   84 :    24  0.14426          OverallQual 0.30  :     33 0.12326           OverallQual 0.28\n",
      "Iter   85 :    23  0.14440          OverallQual 0.30  :     32 0.11713           OverallQual 0.35\n",
      "Iter   86 :    22  0.14374          OverallQual 0.31  :     31 0.11938           OverallQual 0.25\n",
      "Iter   87 :    21  0.14473          OverallQual 0.33  :     30 0.11571          ExterQual_TA 0.35\n",
      "Iter   88 :    20  0.14405          OverallQual 0.34  :     29 0.12194           OverallQual 0.29\n",
      "Iter   89 :    19  0.14293          OverallQual 0.35  :     28 0.12866           OverallQual 0.30\n",
      "Running grid search at Iteration 90 on data split 1...\n"
     ]
    },
    {
     "data": {
      "application/vnd.jupyter.widget-view+json": {
       "model_id": "a633e462281e492c8e32221bed073485",
       "version_major": 2,
       "version_minor": 0
      },
      "text/plain": [
       "  0%|          | 0/108 [00:00<?, ?it/s]"
      ]
     },
     "metadata": {},
     "output_type": "display_data"
    },
    {
     "name": "stdout",
     "output_type": "stream",
     "text": [
      "Running grid search at Iteration 90 on data split 2...\n"
     ]
    },
    {
     "data": {
      "application/vnd.jupyter.widget-view+json": {
       "model_id": "aab92175787e4d849834e449ecfffa57",
       "version_major": 2,
       "version_minor": 0
      },
      "text/plain": [
       "  0%|          | 0/108 [00:00<?, ?it/s]"
      ]
     },
     "metadata": {},
     "output_type": "display_data"
    },
    {
     "name": "stdout",
     "output_type": "stream",
     "text": [
      "\n",
      "Iter 90 -- New best params: {'gamma': 0, 'max_delta_step': 0, 'max_depth': 3, 'min_child_weight': 0}\n",
      "\n",
      "Iter   90 :    18  0.14129          OverallQual 0.31  :     27 0.12376           OverallQual 0.34\n",
      "Iter   91 :    17  0.14096          OverallQual 0.30  :     26 0.12261           OverallQual 0.33\n",
      "Iter   92 :    16  0.14218          OverallQual 0.34  :     25 0.11981          ExterQual_TA 0.32\n",
      "Iter   93 :    15  0.15036          OverallQual 0.33  :     24 0.11931          ExterQual_TA 0.35\n",
      "Iter   94 :    14  0.15011          OverallQual 0.36  :     23 0.12095           OverallQual 0.28\n",
      "Iter   95 :    13  0.15341          BsmtQual_Ex 0.45  :     22 0.12124           OverallQual 0.31\n",
      "Iter   96 :    12  0.15372          BsmtQual_Ex 0.36  :     21 0.12165           OverallQual 0.29\n",
      "Iter   97 :    11  0.15891          BsmtQual_Ex 0.36  :     20 0.11843           OverallQual 0.30\n",
      "Iter   98 :    10  0.15837          OverallQual 0.37  :     19 0.12313           OverallQual 0.35\n",
      "Iter   99 :     9  0.16745          OverallQual 0.33  :     18 0.12446           OverallQual 0.34\n",
      "Iter  100 :     8  0.16795          OverallQual 0.36  :     17 0.12701           OverallQual 0.35\n",
      "Iter  101 :     7  0.19251          OverallQual 0.37  :     16 0.12468           OverallQual 0.35\n",
      "Iter  102 :     6  0.19329          OverallQual 0.39  :     15 0.12961           OverallQual 0.38\n",
      "Iter  103 :     5  0.20169          OverallQual 0.54  :     14 0.13444           OverallQual 0.35\n",
      "Iter  104 :     4  0.20697          OverallQual 0.55  :     13 0.13270           OverallQual 0.41\n",
      "Running grid search at Iteration 105 on data split 1...\n"
     ]
    },
    {
     "data": {
      "application/vnd.jupyter.widget-view+json": {
       "model_id": "e24843b9f70e4a88a2886f0d398bee46",
       "version_major": 2,
       "version_minor": 0
      },
      "text/plain": [
       "  0%|          | 0/108 [00:00<?, ?it/s]"
      ]
     },
     "metadata": {},
     "output_type": "display_data"
    },
    {
     "name": "stdout",
     "output_type": "stream",
     "text": [
      "Running grid search at Iteration 105 on data split 2...\n"
     ]
    },
    {
     "data": {
      "application/vnd.jupyter.widget-view+json": {
       "model_id": "5964306867ef4726b0a80c5e3bfd584a",
       "version_major": 2,
       "version_minor": 0
      },
      "text/plain": [
       "  0%|          | 0/108 [00:00<?, ?it/s]"
      ]
     },
     "metadata": {},
     "output_type": "display_data"
    },
    {
     "name": "stdout",
     "output_type": "stream",
     "text": [
      "\n",
      "Iter 105 -- New best params: {'gamma': 0, 'max_delta_step': 0, 'max_depth': 3, 'min_child_weight': 0}\n",
      "\n",
      "Iter  105 :     3  0.22020          OverallQual 0.58  :     12 0.13506           OverallQual 0.39\n",
      "Iter  106 :     2  0.22900          OverallQual 0.93  :     11 0.14114           OverallQual 0.33\n",
      "Iter  107 :     1  0.22773          OverallQual 1.00  :     10 0.13546           OverallQual 0.39\n",
      "\n",
      "Best results: (1) 0.13843 [56], (2) 0.11197 [61]\n",
      "\n",
      "Using Iter 61 from data split 2 with {'max_depth': 3, 'gamma': 0, 'min_child_weight': 0, 'max_delta_step': 0}\n",
      "[0]\tvalidation_0-rmse:0.31636\n",
      "[1]\tvalidation_0-rmse:0.26217\n",
      "[2]\tvalidation_0-rmse:0.22105\n",
      "[3]\tvalidation_0-rmse:0.19293\n",
      "[4]\tvalidation_0-rmse:0.17648\n",
      "[5]\tvalidation_0-rmse:0.16351\n",
      "[6]\tvalidation_0-rmse:0.15311\n",
      "[7]\tvalidation_0-rmse:0.14837\n",
      "[8]\tvalidation_0-rmse:0.14378\n",
      "[9]\tvalidation_0-rmse:0.13874\n",
      "[10]\tvalidation_0-rmse:0.13612\n",
      "[11]\tvalidation_0-rmse:0.13419\n",
      "[12]\tvalidation_0-rmse:0.13305\n",
      "[13]\tvalidation_0-rmse:0.13046\n",
      "[14]\tvalidation_0-rmse:0.12927\n",
      "[15]\tvalidation_0-rmse:0.12940\n",
      "[16]\tvalidation_0-rmse:0.12596\n",
      "[17]\tvalidation_0-rmse:0.12525\n",
      "[18]\tvalidation_0-rmse:0.12447\n",
      "[19]\tvalidation_0-rmse:0.12304\n",
      "[20]\tvalidation_0-rmse:0.12286\n",
      "[21]\tvalidation_0-rmse:0.12214\n",
      "[22]\tvalidation_0-rmse:0.12130\n",
      "[23]\tvalidation_0-rmse:0.12144\n",
      "[24]\tvalidation_0-rmse:0.12221\n",
      "[25]\tvalidation_0-rmse:0.12225\n",
      "[26]\tvalidation_0-rmse:0.12214\n",
      "[27]\tvalidation_0-rmse:0.12158\n",
      "[28]\tvalidation_0-rmse:0.12140\n",
      "[29]\tvalidation_0-rmse:0.12103\n",
      "[30]\tvalidation_0-rmse:0.12010\n",
      "[31]\tvalidation_0-rmse:0.12040\n",
      "[32]\tvalidation_0-rmse:0.12045\n",
      "[33]\tvalidation_0-rmse:0.12055\n",
      "[34]\tvalidation_0-rmse:0.12045\n",
      "[35]\tvalidation_0-rmse:0.12073\n",
      "[36]\tvalidation_0-rmse:0.12002\n",
      "[37]\tvalidation_0-rmse:0.11997\n",
      "[38]\tvalidation_0-rmse:0.11932\n",
      "[39]\tvalidation_0-rmse:0.11935\n",
      "[40]\tvalidation_0-rmse:0.11854\n",
      "[41]\tvalidation_0-rmse:0.11819\n",
      "[42]\tvalidation_0-rmse:0.11830\n",
      "[43]\tvalidation_0-rmse:0.11822\n",
      "[44]\tvalidation_0-rmse:0.11848\n",
      "[45]\tvalidation_0-rmse:0.11844\n",
      "[46]\tvalidation_0-rmse:0.11821\n",
      "[47]\tvalidation_0-rmse:0.11770\n",
      "[48]\tvalidation_0-rmse:0.11744\n",
      "[49]\tvalidation_0-rmse:0.11740\n",
      "[50]\tvalidation_0-rmse:0.11727\n",
      "[51]\tvalidation_0-rmse:0.11716\n",
      "[52]\tvalidation_0-rmse:0.11693\n",
      "[53]\tvalidation_0-rmse:0.11660\n",
      "[54]\tvalidation_0-rmse:0.11576\n",
      "[55]\tvalidation_0-rmse:0.11562\n",
      "[56]\tvalidation_0-rmse:0.11552\n",
      "[57]\tvalidation_0-rmse:0.11552\n",
      "[58]\tvalidation_0-rmse:0.11537\n",
      "[59]\tvalidation_0-rmse:0.11515\n",
      "[60]\tvalidation_0-rmse:0.11510\n",
      "[61]\tvalidation_0-rmse:0.11508\n",
      "[62]\tvalidation_0-rmse:0.11488\n",
      "[63]\tvalidation_0-rmse:0.11478\n",
      "[64]\tvalidation_0-rmse:0.11506\n",
      "[65]\tvalidation_0-rmse:0.11504\n",
      "[66]\tvalidation_0-rmse:0.11500\n",
      "[67]\tvalidation_0-rmse:0.11484\n",
      "[68]\tvalidation_0-rmse:0.11446\n",
      "[69]\tvalidation_0-rmse:0.11425\n",
      "[70]\tvalidation_0-rmse:0.11384\n",
      "[71]\tvalidation_0-rmse:0.11390\n",
      "[72]\tvalidation_0-rmse:0.11442\n",
      "[73]\tvalidation_0-rmse:0.11453\n",
      "[74]\tvalidation_0-rmse:0.11446\n",
      "[75]\tvalidation_0-rmse:0.11449\n",
      "[76]\tvalidation_0-rmse:0.11429\n",
      "[77]\tvalidation_0-rmse:0.11418\n",
      "[78]\tvalidation_0-rmse:0.11405\n",
      "[79]\tvalidation_0-rmse:0.11367\n",
      "[80]\tvalidation_0-rmse:0.11382\n",
      "[81]\tvalidation_0-rmse:0.11388\n",
      "[82]\tvalidation_0-rmse:0.11373\n",
      "[83]\tvalidation_0-rmse:0.11378\n",
      "[84]\tvalidation_0-rmse:0.11354\n",
      "[85]\tvalidation_0-rmse:0.11328\n",
      "[86]\tvalidation_0-rmse:0.11301\n",
      "[87]\tvalidation_0-rmse:0.11317\n",
      "[88]\tvalidation_0-rmse:0.11338\n",
      "[89]\tvalidation_0-rmse:0.11344\n",
      "[90]\tvalidation_0-rmse:0.11348\n",
      "[91]\tvalidation_0-rmse:0.11339\n",
      "[92]\tvalidation_0-rmse:0.11327\n",
      "[93]\tvalidation_0-rmse:0.11371\n",
      "[94]\tvalidation_0-rmse:0.11372\n",
      "[95]\tvalidation_0-rmse:0.11326\n",
      "[96]\tvalidation_0-rmse:0.11314\n",
      "[97]\tvalidation_0-rmse:0.11301\n",
      "[98]\tvalidation_0-rmse:0.11272\n",
      "[99]\tvalidation_0-rmse:0.11292\n",
      "[100]\tvalidation_0-rmse:0.11249\n",
      "[101]\tvalidation_0-rmse:0.11237\n",
      "[102]\tvalidation_0-rmse:0.11255\n",
      "[103]\tvalidation_0-rmse:0.11256\n",
      "[104]\tvalidation_0-rmse:0.11249\n",
      "[105]\tvalidation_0-rmse:0.11242\n",
      "[106]\tvalidation_0-rmse:0.11203\n",
      "[107]\tvalidation_0-rmse:0.11197\n",
      "[108]\tvalidation_0-rmse:0.11201\n",
      "[109]\tvalidation_0-rmse:0.11220\n",
      "[110]\tvalidation_0-rmse:0.11250\n",
      "[111]\tvalidation_0-rmse:0.11243\n",
      "[112]\tvalidation_0-rmse:0.11206\n",
      "[113]\tvalidation_0-rmse:0.11232\n",
      "[114]\tvalidation_0-rmse:0.11228\n",
      "[115]\tvalidation_0-rmse:0.11217\n",
      "[116]\tvalidation_0-rmse:0.11238\n",
      "[117]\tvalidation_0-rmse:0.11234\n",
      "[118]\tvalidation_0-rmse:0.11266\n",
      "[119]\tvalidation_0-rmse:0.11278\n",
      "[120]\tvalidation_0-rmse:0.11276\n",
      "[121]\tvalidation_0-rmse:0.11274\n",
      "[122]\tvalidation_0-rmse:0.11255\n",
      "[123]\tvalidation_0-rmse:0.11252\n",
      "[124]\tvalidation_0-rmse:0.11238\n",
      "[125]\tvalidation_0-rmse:0.11240\n",
      "[126]\tvalidation_0-rmse:0.11254\n",
      "[127]\tvalidation_0-rmse:0.11259\n",
      "\n",
      "Final MAE: 14134.451\n",
      "\n",
      "0 0 OverallQual\n",
      "0 1 ExterQual_TA\n",
      "0 2 Fireplaces\n",
      "0 3 GarageCars\n",
      "0 4 GrLivArea\n",
      "5 0 KitchenQual_Ex\n",
      "5 1 CentralAir_N\n",
      "5 2 MSZoning_RL\n",
      "5 3 1stFlrSF\n",
      "5 4 YearRemodAdd\n",
      "10 0 TotalBsmtSF\n",
      "10 1 YearBuilt\n",
      "10 2 BsmtExposure_No\n",
      "10 3 LandContour_Bnk\n",
      "10 4 BsmtFinSF1\n",
      "15 0 MSZoning_RM\n",
      "15 1 Condition1_PosN\n",
      "15 2 GarageCond_TA\n",
      "15 3 OverallCond\n",
      "15 4 Neighborhood_Crawfor\n",
      "Number of numeric features in best iteration: 22\n",
      "Number of non-numeric features in best iteration: 20\n"
     ]
    },
    {
     "data": {
      "image/png": "[encoded data removed]",
      "text/plain": [
       "<Figure size 900x600 with 1 Axes>"
      ]
     },
     "metadata": {},
     "output_type": "display_data"
    },
    {
     "data": {
      "image/png": "[encoded data removed]",
      "text/plain": [
       "<Figure size 900x600 with 1 Axes>"
      ]
     },
     "metadata": {},
     "output_type": "display_data"
    }
   ],
   "source": [
    "# training_results_df = fselect.run(train_data)\n",
    "# Optional: Include the 'master_columns_df' from FeaturesEDA to get a comparison plot with the feature importances:\n",
    "training_results_df = fselect.run(train_data, master_columns_df=eda.master_columns_df)"
   ]
  },
  {
   "cell_type": "markdown",
   "id": "228f51150dfefb61",
   "metadata": {
    "collapsed": false,
    "jupyter": {
     "outputs_hidden": false
    }
   },
   "source": [
    "### Additional Stuff"
   ]
  },
  {
   "cell_type": "code",
   "execution_count": null,
   "id": "66af3963",
   "metadata": {},
   "outputs": [],
   "source": []
  }
 ],
 "metadata": {
  "kernelspec": {
   "display_name": "Python 3 (ipykernel)",
   "language": "python",
   "name": "python3"
  },
  "language_info": {
   "codemirror_mode": {
    "name": "ipython",
    "version": 3
   },
   "file_extension": ".py",
   "mimetype": "text/x-python",
   "name": "python",
   "nbconvert_exporter": "python",
   "pygments_lexer": "ipython3",
   "version": "3.8.18"
  }
 },
 "nbformat": 4,
 "nbformat_minor": 5
}
