{
 "cells": [
  {
   "cell_type": "markdown",
   "id": "6131bb0246d0f498",
   "metadata": {
    "collapsed": false,
    "jupyter": {
     "outputs_hidden": false
    }
   },
   "source": [
    "# Featuring Data EDA"
   ]
  },
  {
   "cell_type": "code",
   "execution_count": 1,
   "id": "initial_id",
   "metadata": {
    "ExecuteTime": {
     "end_time": "2024-04-17T19:47:03.761181Z",
     "start_time": "2024-04-17T19:47:03.504090Z"
    }
   },
   "outputs": [],
   "source": [
    "import pandas as pd\n",
    "\n",
    "from featuringdata.featuresEDA import FeaturesEDA\n",
    "from featuringdata.featureSelector import FeatureSelector"
   ]
  },
  {
   "cell_type": "markdown",
   "id": "c6434bf7e69976d6",
   "metadata": {
    "collapsed": false,
    "jupyter": {
     "outputs_hidden": false
    }
   },
   "source": [
    "## Data Input"
   ]
  },
  {
   "cell_type": "code",
   "execution_count": 2,
   "id": "c1ea6b66f0124c39",
   "metadata": {
    "ExecuteTime": {
     "end_time": "2024-04-17T19:47:05.250280Z",
     "start_time": "2024-04-17T19:47:05.242332Z"
    },
    "collapsed": false,
    "jupyter": {
     "outputs_hidden": false
    }
   },
   "outputs": [],
   "source": [
    "train_data = pd.read_csv('titanic_classification_train.csv')"
   ]
  },
  {
   "cell_type": "code",
   "execution_count": 3,
   "id": "e508025ed38125be",
   "metadata": {
    "ExecuteTime": {
     "end_time": "2024-04-17T19:47:05.693957Z",
     "start_time": "2024-04-17T19:47:05.687535Z"
    },
    "collapsed": false,
    "jupyter": {
     "outputs_hidden": false
    }
   },
   "outputs": [
    {
     "name": "stdout",
     "output_type": "stream",
     "text": [
      "<class 'pandas.core.frame.DataFrame'>\n",
      "RangeIndex: 891 entries, 0 to 890\n",
      "Data columns (total 12 columns):\n",
      " #   Column       Non-Null Count  Dtype  \n",
      "---  ------       --------------  -----  \n",
      " 0   PassengerId  891 non-null    int64  \n",
      " 1   Survived     891 non-null    int64  \n",
      " 2   Pclass       891 non-null    int64  \n",
      " 3   Name         891 non-null    object \n",
      " 4   Sex          891 non-null    object \n",
      " 5   Age          714 non-null    float64\n",
      " 6   SibSp        891 non-null    int64  \n",
      " 7   Parch        891 non-null    int64  \n",
      " 8   Ticket       891 non-null    object \n",
      " 9   Fare         891 non-null    float64\n",
      " 10  Cabin        204 non-null    object \n",
      " 11  Embarked     889 non-null    object \n",
      "dtypes: float64(2), int64(5), object(5)\n",
      "memory usage: 83.7+ KB\n"
     ]
    }
   ],
   "source": [
    "train_data.info()"
   ]
  },
  {
   "cell_type": "code",
   "execution_count": 4,
   "id": "e9554eef8ac96308",
   "metadata": {
    "ExecuteTime": {
     "end_time": "2024-04-17T19:47:06.515943Z",
     "start_time": "2024-04-17T19:47:06.505997Z"
    },
    "collapsed": false,
    "jupyter": {
     "outputs_hidden": false
    }
   },
   "outputs": [
    {
     "data": {
      "text/html": [
       "<div>\n",
       "<style scoped>\n",
       "    .dataframe tbody tr th:only-of-type {\n",
       "        vertical-align: middle;\n",
       "    }\n",
       "\n",
       "    .dataframe tbody tr th {\n",
       "        vertical-align: top;\n",
       "    }\n",
       "\n",
       "    .dataframe thead th {\n",
       "        text-align: right;\n",
       "    }\n",
       "</style>\n",
       "<table border=\"1\" class=\"dataframe\">\n",
       "  <thead>\n",
       "    <tr style=\"text-align: right;\">\n",
       "      <th></th>\n",
       "      <th>PassengerId</th>\n",
       "      <th>Survived</th>\n",
       "      <th>Pclass</th>\n",
       "      <th>Name</th>\n",
       "      <th>Sex</th>\n",
       "      <th>Age</th>\n",
       "      <th>SibSp</th>\n",
       "      <th>Parch</th>\n",
       "      <th>Ticket</th>\n",
       "      <th>Fare</th>\n",
       "      <th>Cabin</th>\n",
       "      <th>Embarked</th>\n",
       "    </tr>\n",
       "  </thead>\n",
       "  <tbody>\n",
       "    <tr>\n",
       "      <th>0</th>\n",
       "      <td>1</td>\n",
       "      <td>0</td>\n",
       "      <td>3</td>\n",
       "      <td>Braund, Mr. Owen Harris</td>\n",
       "      <td>male</td>\n",
       "      <td>22.0</td>\n",
       "      <td>1</td>\n",
       "      <td>0</td>\n",
       "      <td>A/5 21171</td>\n",
       "      <td>7.2500</td>\n",
       "      <td>NaN</td>\n",
       "      <td>S</td>\n",
       "    </tr>\n",
       "    <tr>\n",
       "      <th>1</th>\n",
       "      <td>2</td>\n",
       "      <td>1</td>\n",
       "      <td>1</td>\n",
       "      <td>Cumings, Mrs. John Bradley (Florence Briggs Th...</td>\n",
       "      <td>female</td>\n",
       "      <td>38.0</td>\n",
       "      <td>1</td>\n",
       "      <td>0</td>\n",
       "      <td>PC 17599</td>\n",
       "      <td>71.2833</td>\n",
       "      <td>C85</td>\n",
       "      <td>C</td>\n",
       "    </tr>\n",
       "    <tr>\n",
       "      <th>2</th>\n",
       "      <td>3</td>\n",
       "      <td>1</td>\n",
       "      <td>3</td>\n",
       "      <td>Heikkinen, Miss. Laina</td>\n",
       "      <td>female</td>\n",
       "      <td>26.0</td>\n",
       "      <td>0</td>\n",
       "      <td>0</td>\n",
       "      <td>STON/O2. 3101282</td>\n",
       "      <td>7.9250</td>\n",
       "      <td>NaN</td>\n",
       "      <td>S</td>\n",
       "    </tr>\n",
       "    <tr>\n",
       "      <th>3</th>\n",
       "      <td>4</td>\n",
       "      <td>1</td>\n",
       "      <td>1</td>\n",
       "      <td>Futrelle, Mrs. Jacques Heath (Lily May Peel)</td>\n",
       "      <td>female</td>\n",
       "      <td>35.0</td>\n",
       "      <td>1</td>\n",
       "      <td>0</td>\n",
       "      <td>113803</td>\n",
       "      <td>53.1000</td>\n",
       "      <td>C123</td>\n",
       "      <td>S</td>\n",
       "    </tr>\n",
       "    <tr>\n",
       "      <th>4</th>\n",
       "      <td>5</td>\n",
       "      <td>0</td>\n",
       "      <td>3</td>\n",
       "      <td>Allen, Mr. William Henry</td>\n",
       "      <td>male</td>\n",
       "      <td>35.0</td>\n",
       "      <td>0</td>\n",
       "      <td>0</td>\n",
       "      <td>373450</td>\n",
       "      <td>8.0500</td>\n",
       "      <td>NaN</td>\n",
       "      <td>S</td>\n",
       "    </tr>\n",
       "  </tbody>\n",
       "</table>\n",
       "</div>"
      ],
      "text/plain": [
       "   PassengerId  Survived  Pclass  \\\n",
       "0            1         0       3   \n",
       "1            2         1       1   \n",
       "2            3         1       3   \n",
       "3            4         1       1   \n",
       "4            5         0       3   \n",
       "\n",
       "                                                Name     Sex   Age  SibSp  \\\n",
       "0                            Braund, Mr. Owen Harris    male  22.0      1   \n",
       "1  Cumings, Mrs. John Bradley (Florence Briggs Th...  female  38.0      1   \n",
       "2                             Heikkinen, Miss. Laina  female  26.0      0   \n",
       "3       Futrelle, Mrs. Jacques Heath (Lily May Peel)  female  35.0      1   \n",
       "4                           Allen, Mr. William Henry    male  35.0      0   \n",
       "\n",
       "   Parch            Ticket     Fare Cabin Embarked  \n",
       "0      0         A/5 21171   7.2500   NaN        S  \n",
       "1      0          PC 17599  71.2833   C85        C  \n",
       "2      0  STON/O2. 3101282   7.9250   NaN        S  \n",
       "3      0            113803  53.1000  C123        S  \n",
       "4      0            373450   8.0500   NaN        S  "
      ]
     },
     "execution_count": 4,
     "metadata": {},
     "output_type": "execute_result"
    }
   ],
   "source": [
    "train_data.head()"
   ]
  },
  {
   "cell_type": "code",
   "execution_count": null,
   "id": "3e4fd87e2d4f0930",
   "metadata": {
    "ExecuteTime": {
     "end_time": "2024-04-17T19:43:57.293710Z",
     "start_time": "2024-04-17T19:43:57.103271Z"
    }
   },
   "outputs": [],
   "source": []
  },
  {
   "cell_type": "markdown",
   "id": "dea7fa5a4c4b14a7",
   "metadata": {
    "collapsed": false,
    "jupyter": {
     "outputs_hidden": false
    }
   },
   "source": [
    "\n",
    "## Features EDA"
   ]
  },
  {
   "cell_type": "code",
   "execution_count": 5,
   "id": "4ca100b8f54d4113",
   "metadata": {
    "ExecuteTime": {
     "end_time": "2024-04-17T19:47:15.281641Z",
     "start_time": "2024-04-17T19:47:15.271341Z"
    },
    "collapsed": false,
    "jupyter": {
     "outputs_hidden": false
    }
   },
   "outputs": [],
   "source": [
    "eda = FeaturesEDA(report_prefix='Titanic', target_col=\"Survived\")"
   ]
  },
  {
   "cell_type": "code",
   "execution_count": 6,
   "id": "5710aa805c8e3306",
   "metadata": {
    "ExecuteTime": {
     "end_time": "2024-04-17T19:47:23.876172Z",
     "start_time": "2024-04-17T19:47:23.873890Z"
    },
    "collapsed": false,
    "jupyter": {
     "outputs_hidden": false
    }
   },
   "outputs": [],
   "source": [
    "# Run this to get an abbreviated PDF report (similar information to dataframe.info() and dataframe.describe()):\n",
    "# eda.run_initial_eda(train_data)"
   ]
  },
  {
   "cell_type": "code",
   "execution_count": 7,
   "id": "d29eaf5e7913aa88",
   "metadata": {
    "ExecuteTime": {
     "end_time": "2024-04-17T19:47:26.824789Z",
     "start_time": "2024-04-17T19:47:25.190527Z"
    },
    "collapsed": false,
    "jupyter": {
     "outputs_hidden": false
    }
   },
   "outputs": [
    {
     "name": "stdout",
     "output_type": "stream",
     "text": [
      "--- Null Values Analysis ---\n",
      "Out of 12 total data columns, there are 3 columns with at least 1 null value.\n",
      "\n",
      "Out of 891 total rows/data samples, 708 rows have at least one null value.\n",
      "The row with the most NULL values has 2 NULLs.\n",
      "\n",
      "--- Sorting Numeric and Non-numeric Columns / Unique Values ---\n",
      "There are 6 numeric columns and 5 non-numeric columns.\n",
      "There are 0 non-numeric columns with just a single value and will be removed.\n",
      "There are 3 non-numeric columns with a very large number of unique values and will be removed.\n",
      "After the above adjustments, there are now 8 data columns, with 6 numeric columns and 2 non-numeric/categorical columns.\n",
      "\n",
      "--- Target Column ---\n",
      "For the chosen target column ('Survived'), this appears to be a classification problem.\n",
      "The target column has 0 null values and 2 unique values.\n",
      "\n",
      "--- Feature Correlations ---\n",
      "For random forest (RF) correlation measure, using 50 trees and min_samples_leaf=27.\n",
      "\n",
      "Running correlations of numeric features to target variable...\n"
     ]
    },
    {
     "data": {
      "application/vnd.jupyter.widget-view+json": {
       "model_id": "bfcf135b5af24a95b7627407b6de8982",
       "version_major": 2,
       "version_minor": 0
      },
      "text/plain": [
       "  0%|          | 0/6 [00:00<?, ?it/s]"
      ]
     },
     "metadata": {},
     "output_type": "display_data"
    },
    {
     "data": {
      "application/vnd.jupyter.widget-view+json": {
       "model_id": "df5f173b7e5543d9979fe0f7090848a0",
       "version_major": 2,
       "version_minor": 0
      },
      "text/plain": [
       "  0%|          | 0/15 [00:00<?, ?it/s]"
      ]
     },
     "metadata": {},
     "output_type": "display_data"
    },
    {
     "name": "stdout",
     "output_type": "stream",
     "text": [
      "For random forest (RF) correlation measure, using 50 trees and min_samples_leaf=3.\n",
      "\n",
      "Running correlations of non-numeric features to target variable...\n"
     ]
    },
    {
     "data": {
      "application/vnd.jupyter.widget-view+json": {
       "model_id": "d2d459da553f4296a8fd6f8dce30f250",
       "version_major": 2,
       "version_minor": 0
      },
      "text/plain": [
       "  0%|          | 0/2 [00:00<?, ?it/s]"
      ]
     },
     "metadata": {},
     "output_type": "display_data"
    },
    {
     "name": "stdout",
     "output_type": "stream",
     "text": [
      "Generating plots of numeric features...\n"
     ]
    },
    {
     "data": {
      "application/vnd.jupyter.widget-view+json": {
       "model_id": "61d75cebe2004ae68edeff20eec6bbfd",
       "version_major": 2,
       "version_minor": 0
      },
      "text/plain": [
       "  0%|          | 0/6 [00:00<?, ?it/s]"
      ]
     },
     "metadata": {},
     "output_type": "display_data"
    },
    {
     "name": "stdout",
     "output_type": "stream",
     "text": [
      "Generating plots of non-numeric/categorical features...\n"
     ]
    },
    {
     "data": {
      "application/vnd.jupyter.widget-view+json": {
       "model_id": "b24b4ebd1d0c48879ee41cf3c728661b",
       "version_major": 2,
       "version_minor": 0
      },
      "text/plain": [
       "  0%|          | 0/2 [00:00<?, ?it/s]"
      ]
     },
     "metadata": {},
     "output_type": "display_data"
    },
    {
     "name": "stdout",
     "output_type": "stream",
     "text": [
      "\n",
      "--- Files Output ---\n",
      "File 'Titanic_EDA_Report_20240512_221013.pdf' has been saved in current working directory.\n",
      "All PNG files can be found in ./Titanic_EDA_plots_20240512_221013.\n"
     ]
    }
   ],
   "source": [
    "# Run this to get a full EDA report in PDF format in the local directory:\n",
    "eda.run_full_eda(train_data, run_collinear=True, generate_plots=True)"
   ]
  },
  {
   "cell_type": "code",
   "execution_count": 8,
   "id": "d759f12a5fa11ef7",
   "metadata": {
    "collapsed": false,
    "jupyter": {
     "outputs_hidden": false
    }
   },
   "outputs": [
    {
     "data": {
      "text/html": [
       "<div>\n",
       "<style scoped>\n",
       "    .dataframe tbody tr th:only-of-type {\n",
       "        vertical-align: middle;\n",
       "    }\n",
       "\n",
       "    .dataframe tbody tr th {\n",
       "        vertical-align: top;\n",
       "    }\n",
       "\n",
       "    .dataframe thead th {\n",
       "        text-align: right;\n",
       "    }\n",
       "</style>\n",
       "<table border=\"1\" class=\"dataframe\">\n",
       "  <thead>\n",
       "    <tr style=\"text-align: right;\">\n",
       "      <th></th>\n",
       "      <th>Num of Nulls</th>\n",
       "      <th>Frac Null</th>\n",
       "      <th>dtype</th>\n",
       "      <th>Column Type (orig)</th>\n",
       "      <th>Num Unique Values</th>\n",
       "      <th>Column Note</th>\n",
       "      <th>Column Type</th>\n",
       "      <th>Count not-Null</th>\n",
       "      <th>Mutual Info</th>\n",
       "      <th>Random Forest</th>\n",
       "      <th>COLLIN Avg Pearson Corr</th>\n",
       "      <th>COLLIN Avg RF Corr</th>\n",
       "      <th>COLLIN Max Pear Corr Feature</th>\n",
       "      <th>COLLIN Max Pear</th>\n",
       "      <th>COLLIN Max RF Corr Feature</th>\n",
       "      <th>COLLIN Max RF Corr</th>\n",
       "      <th>RF_norm</th>\n",
       "    </tr>\n",
       "  </thead>\n",
       "  <tbody>\n",
       "    <tr>\n",
       "      <th>PassengerId</th>\n",
       "      <td>0</td>\n",
       "      <td>0.0</td>\n",
       "      <td>int64</td>\n",
       "      <td>numeric</td>\n",
       "      <td>891</td>\n",
       "      <td>None</td>\n",
       "      <td>numeric</td>\n",
       "      <td>891</td>\n",
       "      <td>0.01</td>\n",
       "      <td>0.10</td>\n",
       "      <td>0.03</td>\n",
       "      <td>0.03</td>\n",
       "      <td>SibSp</td>\n",
       "      <td>-0.06</td>\n",
       "      <td>Age</td>\n",
       "      <td>0.05</td>\n",
       "      <td>NaN</td>\n",
       "    </tr>\n",
       "    <tr>\n",
       "      <th>Survived</th>\n",
       "      <td>0</td>\n",
       "      <td>0.0</td>\n",
       "      <td>int64</td>\n",
       "      <td>target</td>\n",
       "      <td>2</td>\n",
       "      <td>None</td>\n",
       "      <td>target</td>\n",
       "      <td>891</td>\n",
       "      <td>NaN</td>\n",
       "      <td>NaN</td>\n",
       "      <td>NaN</td>\n",
       "      <td>NaN</td>\n",
       "      <td>NaN</td>\n",
       "      <td>NaN</td>\n",
       "      <td>NaN</td>\n",
       "      <td>NaN</td>\n",
       "      <td>NaN</td>\n",
       "    </tr>\n",
       "    <tr>\n",
       "      <th>Pclass</th>\n",
       "      <td>0</td>\n",
       "      <td>0.0</td>\n",
       "      <td>int64</td>\n",
       "      <td>numeric</td>\n",
       "      <td>3</td>\n",
       "      <td>None</td>\n",
       "      <td>numeric</td>\n",
       "      <td>891</td>\n",
       "      <td>0.08</td>\n",
       "      <td>0.27</td>\n",
       "      <td>0.21</td>\n",
       "      <td>0.15</td>\n",
       "      <td>Fare</td>\n",
       "      <td>-0.55</td>\n",
       "      <td>Fare</td>\n",
       "      <td>0.53</td>\n",
       "      <td>NaN</td>\n",
       "    </tr>\n",
       "    <tr>\n",
       "      <th>Name</th>\n",
       "      <td>0</td>\n",
       "      <td>0.0</td>\n",
       "      <td>object</td>\n",
       "      <td>non-numeric</td>\n",
       "      <td>891</td>\n",
       "      <td>remove</td>\n",
       "      <td>None</td>\n",
       "      <td>&lt;NA&gt;</td>\n",
       "      <td>NaN</td>\n",
       "      <td>NaN</td>\n",
       "      <td>NaN</td>\n",
       "      <td>NaN</td>\n",
       "      <td>NaN</td>\n",
       "      <td>NaN</td>\n",
       "      <td>NaN</td>\n",
       "      <td>NaN</td>\n",
       "      <td>NaN</td>\n",
       "    </tr>\n",
       "    <tr>\n",
       "      <th>Sex</th>\n",
       "      <td>0</td>\n",
       "      <td>0.0</td>\n",
       "      <td>object</td>\n",
       "      <td>non-numeric</td>\n",
       "      <td>2</td>\n",
       "      <td>None</td>\n",
       "      <td>non-numeric</td>\n",
       "      <td>891</td>\n",
       "      <td>0.15</td>\n",
       "      <td>0.54</td>\n",
       "      <td>NaN</td>\n",
       "      <td>NaN</td>\n",
       "      <td>NaN</td>\n",
       "      <td>NaN</td>\n",
       "      <td>NaN</td>\n",
       "      <td>NaN</td>\n",
       "      <td>0.54</td>\n",
       "    </tr>\n",
       "  </tbody>\n",
       "</table>\n",
       "</div>"
      ],
      "text/plain": [
       "             Num of Nulls  Frac Null   dtype Column Type (orig)  \\\n",
       "PassengerId             0        0.0   int64            numeric   \n",
       "Survived                0        0.0   int64             target   \n",
       "Pclass                  0        0.0   int64            numeric   \n",
       "Name                    0        0.0  object        non-numeric   \n",
       "Sex                     0        0.0  object        non-numeric   \n",
       "\n",
       "             Num Unique Values Column Note  Column Type  Count not-Null  \\\n",
       "PassengerId                891        None      numeric             891   \n",
       "Survived                     2        None       target             891   \n",
       "Pclass                       3        None      numeric             891   \n",
       "Name                       891      remove         None            <NA>   \n",
       "Sex                          2        None  non-numeric             891   \n",
       "\n",
       "             Mutual Info  Random Forest  COLLIN Avg Pearson Corr  \\\n",
       "PassengerId         0.01           0.10                     0.03   \n",
       "Survived             NaN            NaN                      NaN   \n",
       "Pclass              0.08           0.27                     0.21   \n",
       "Name                 NaN            NaN                      NaN   \n",
       "Sex                 0.15           0.54                      NaN   \n",
       "\n",
       "             COLLIN Avg RF Corr COLLIN Max Pear Corr Feature  COLLIN Max Pear  \\\n",
       "PassengerId                0.03                        SibSp            -0.06   \n",
       "Survived                    NaN                          NaN              NaN   \n",
       "Pclass                     0.15                         Fare            -0.55   \n",
       "Name                        NaN                          NaN              NaN   \n",
       "Sex                         NaN                          NaN              NaN   \n",
       "\n",
       "            COLLIN Max RF Corr Feature  COLLIN Max RF Corr  RF_norm  \n",
       "PassengerId                        Age                0.05      NaN  \n",
       "Survived                           NaN                 NaN      NaN  \n",
       "Pclass                            Fare                0.53      NaN  \n",
       "Name                               NaN                 NaN      NaN  \n",
       "Sex                                NaN                 NaN     0.54  "
      ]
     },
     "execution_count": 8,
     "metadata": {},
     "output_type": "execute_result"
    }
   ],
   "source": [
    "eda.master_columns_df.head()"
   ]
  },
  {
   "cell_type": "code",
   "execution_count": 9,
   "id": "b1ce33ac4dd57e9a",
   "metadata": {
    "collapsed": false,
    "jupyter": {
     "outputs_hidden": false
    }
   },
   "outputs": [
    {
     "name": "stdout",
     "output_type": "stream",
     "text": [
      "6 2\n"
     ]
    }
   ],
   "source": [
    "print(len(eda.numeric_cols), len(eda.non_numeric_cols))"
   ]
  },
  {
   "cell_type": "markdown",
   "id": "5544c1a8",
   "metadata": {},
   "source": [
    "### Additional Stuff"
   ]
  },
  {
   "cell_type": "code",
   "execution_count": null,
   "id": "d1eabd4a557a5d08",
   "metadata": {
    "collapsed": false,
    "jupyter": {
     "outputs_hidden": false
    }
   },
   "outputs": [],
   "source": []
  },
  {
   "cell_type": "markdown",
   "id": "96d480d6598d2ed9",
   "metadata": {
    "collapsed": false,
    "jupyter": {
     "outputs_hidden": false
    }
   },
   "source": [
    "## Feature Selector"
   ]
  },
  {
   "cell_type": "code",
   "execution_count": 10,
   "id": "21526a8544e12f20",
   "metadata": {
    "collapsed": false,
    "jupyter": {
     "outputs_hidden": false
    }
   },
   "outputs": [],
   "source": [
    "parameter_dict = {'max_depth': [3, 4, 5, 6], 'gamma': [0, 1, 5],\n",
    "                  'min_child_weight': [0, 1, 5], 'max_delta_step': [0, 1, 5]}"
   ]
  },
  {
   "cell_type": "code",
   "execution_count": 11,
   "id": "d93f1346",
   "metadata": {},
   "outputs": [
    {
     "name": "stdout",
     "output_type": "stream",
     "text": [
      "classification\n"
     ]
    }
   ],
   "source": [
    "print(eda.target_type)"
   ]
  },
  {
   "cell_type": "code",
   "execution_count": 12,
   "id": "8b08d003",
   "metadata": {},
   "outputs": [],
   "source": [
    "fselect = FeatureSelector(eda.numeric_cols, eda.non_numeric_cols, report_prefix=eda.report_prefix,\n",
    "                          target_col=eda.target_col, target_type=eda.target_type, target_log=False,\n",
    "                          parameter_dict=parameter_dict)  #val_size=0.15)"
   ]
  },
  {
   "cell_type": "code",
   "execution_count": 13,
   "id": "ab043e265a00fc86",
   "metadata": {
    "collapsed": false,
    "jupyter": {
     "outputs_hidden": false
    }
   },
   "outputs": [
    {
     "name": "stdout",
     "output_type": "stream",
     "text": [
      "Starting number of feature columns: 11\n",
      "\n",
      "Running grid search at Iteration 0 on data split 1...\n"
     ]
    },
    {
     "data": {
      "application/vnd.jupyter.widget-view+json": {
       "model_id": "7ee8b476483945b48486669f45f0d7c4",
       "version_major": 2,
       "version_minor": 0
      },
      "text/plain": [
       "  0%|          | 0/108 [00:00<?, ?it/s]"
      ]
     },
     "metadata": {},
     "output_type": "display_data"
    },
    {
     "name": "stdout",
     "output_type": "stream",
     "text": [
      "Running grid search at Iteration 0 on data split 2...\n"
     ]
    },
    {
     "data": {
      "application/vnd.jupyter.widget-view+json": {
       "model_id": "84e5a353ccd64dc5bfe2ab7870013717",
       "version_major": 2,
       "version_minor": 0
      },
      "text/plain": [
       "  0%|          | 0/108 [00:00<?, ?it/s]"
      ]
     },
     "metadata": {},
     "output_type": "display_data"
    },
    {
     "name": "stdout",
     "output_type": "stream",
     "text": [
      "\n",
      "Iter 0 -- New best params: {'gamma': 0, 'max_delta_step': 0, 'max_depth': 5, 'min_child_weight': 0}\n",
      "\n",
      "         NumFeats(1) logloss(1)   TopFeat(1) TopFeatImp(1)  NumFeats(2) logloss(2)   TopFeat(2) TopFeatImp(2)\n",
      "Iter    0 :    11  0.41293           Sex_female 0.60  :     11 0.36394            Sex_female 0.54\n",
      "Iter    1 :    10  0.41293           Sex_female 0.60  :     10 0.36394            Sex_female 0.54\n",
      "Iter    2 :     9  0.41193           Sex_female 0.59  :      9 0.37232            Sex_female 0.61\n",
      "Iter    3 :     8  0.41724           Sex_female 0.64  :      8 0.37493            Sex_female 0.59\n",
      "Iter    4 :     7  0.40730           Sex_female 0.68  :      7 0.37786            Sex_female 0.62\n",
      "Iter    5 :     6  0.39651           Sex_female 0.63  :      6 0.37469            Sex_female 0.64\n",
      "Iter    6 :     5  0.39422           Sex_female 0.59  :      5 0.38000            Sex_female 0.64\n",
      "Iter    7 :     4  0.42621           Sex_female 0.70  :      4 0.38372            Sex_female 0.67\n",
      "Iter    8 :     3  0.43261           Sex_female 0.68  :      3 0.38461            Sex_female 0.63\n",
      "Iter    9 :     2  0.47132           Sex_female 0.89  :      2 0.41068            Sex_female 0.89\n",
      "Iter   10 :     1  0.52312           Sex_female 1.00  :      1 0.50873            Sex_female 1.00\n",
      "\n",
      "Best results: (1) 0.39422 [6], (2) 0.36394 [0]\n",
      "\n",
      "Using Iter 0 from data split 2 with {'max_depth': 5, 'gamma': 0, 'min_child_weight': 0, 'max_delta_step': 0}\n",
      "[0]\tvalidation_0-logloss:0.55968\n",
      "[1]\tvalidation_0-logloss:0.48915\n",
      "[2]\tvalidation_0-logloss:0.45256\n",
      "[3]\tvalidation_0-logloss:0.42211\n",
      "[4]\tvalidation_0-logloss:0.40729\n",
      "[5]\tvalidation_0-logloss:0.39230\n",
      "[6]\tvalidation_0-logloss:0.38600\n",
      "[7]\tvalidation_0-logloss:0.38028\n",
      "[8]\tvalidation_0-logloss:0.38122\n",
      "[9]\tvalidation_0-logloss:0.37232\n",
      "[10]\tvalidation_0-logloss:0.37819\n",
      "[11]\tvalidation_0-logloss:0.37608\n",
      "[12]\tvalidation_0-logloss:0.37572\n",
      "[13]\tvalidation_0-logloss:0.36972\n",
      "[14]\tvalidation_0-logloss:0.36528\n",
      "[15]\tvalidation_0-logloss:0.36394\n",
      "[16]\tvalidation_0-logloss:0.36834\n",
      "[17]\tvalidation_0-logloss:0.37410\n",
      "[18]\tvalidation_0-logloss:0.37785\n",
      "[19]\tvalidation_0-logloss:0.37799\n",
      "[20]\tvalidation_0-logloss:0.37999\n",
      "[21]\tvalidation_0-logloss:0.37868\n",
      "[22]\tvalidation_0-logloss:0.37394\n",
      "[23]\tvalidation_0-logloss:0.37422\n",
      "[24]\tvalidation_0-logloss:0.37533\n",
      "[25]\tvalidation_0-logloss:0.37978\n",
      "[26]\tvalidation_0-logloss:0.37862\n",
      "[27]\tvalidation_0-logloss:0.38135\n",
      "[28]\tvalidation_0-logloss:0.38372\n",
      "[29]\tvalidation_0-logloss:0.38530\n",
      "[30]\tvalidation_0-logloss:0.38576\n",
      "[31]\tvalidation_0-logloss:0.39014\n",
      "[32]\tvalidation_0-logloss:0.38850\n",
      "[33]\tvalidation_0-logloss:0.39149\n",
      "[34]\tvalidation_0-logloss:0.39106\n",
      "\n",
      "Final CohKap: 0.664\n",
      "\n",
      "0 0 Sex_female\n",
      "0 1 Pclass\n",
      "0 2 SibSp\n",
      "0 3 Fare\n",
      "0 4 Age\n",
      "5 0 Embarked_Q\n",
      "5 1 PassengerId\n",
      "5 2 Embarked_C\n",
      "5 3 Parch\n",
      "5 4 Embarked_S\n",
      "Number of numeric features in best iteration: 6\n",
      "Number of non-numeric features in best iteration: 2\n"
     ]
    },
    {
     "data": {
      "image/png": "[encoded data removed]",
      "text/plain": [
       "<Figure size 900x600 with 1 Axes>"
      ]
     },
     "metadata": {},
     "output_type": "display_data"
    },
    {
     "data": {
      "image/png": "[encoded data removed]",
      "text/plain": [
       "<Figure size 900x600 with 1 Axes>"
      ]
     },
     "metadata": {},
     "output_type": "display_data"
    }
   ],
   "source": [
    "# training_results_df = fselect.run(train_data)\n",
    "# Optional: Include the 'master_columns_df' from FeaturesEDA to get a\n",
    "#   comparison plot between the individual feature correlations with the\n",
    "#   target, compared with the feature importances:\n",
    "training_results_df = fselect.run(train_data, master_columns_df=eda.master_columns_df)"
   ]
  },
  {
   "cell_type": "markdown",
   "id": "c381af34fb5d7d7d",
   "metadata": {
    "collapsed": false,
    "jupyter": {
     "outputs_hidden": false
    }
   },
   "source": [
    "### Additional Stuff"
   ]
  },
  {
   "cell_type": "code",
   "execution_count": null,
   "id": "228f51150dfefb61",
   "metadata": {
    "collapsed": false,
    "jupyter": {
     "outputs_hidden": false
    }
   },
   "outputs": [],
   "source": []
  }
 ],
 "metadata": {
  "kernelspec": {
   "display_name": "Python 3 (ipykernel)",
   "language": "python",
   "name": "python3"
  },
  "language_info": {
   "codemirror_mode": {
    "name": "ipython",
    "version": 3
   },
   "file_extension": ".py",
   "mimetype": "text/x-python",
   "name": "python",
   "nbconvert_exporter": "python",
   "pygments_lexer": "ipython3",
   "version": "3.8.18"
  }
 },
 "nbformat": 4,
 "nbformat_minor": 5
}
